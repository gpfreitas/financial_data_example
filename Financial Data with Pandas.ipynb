{
 "cells": [
  {
   "cell_type": "markdown",
   "metadata": {},
   "source": [
    "# Manipulating Tick Data with pandas\n",
    "\n",
    "We will work with data from [QuantQuote](https://quantquote.com/historical-stock-data).\n",
    "\n",
    "- Dimensions: date, time, stock symbol\n",
    "- Metrics: opening, high, low and closing prices, as well as trade volume\n",
    "- Frequency: daily\n",
    "- Dates: 1998 to 2015\n",
    "- Scope: 500 stock symbols that constitute the S&P500 as of Dec 2015.\n",
    "\n",
    "Let's get the data"
   ]
  },
  {
   "cell_type": "code",
   "execution_count": null,
   "metadata": {
    "collapsed": false
   },
   "outputs": [],
   "source": [
    "from urllib.request import urlretrieve\n",
    "from zipfile import ZipFile\n",
    "import os.path\n",
    "\n",
    "def download(url):\n",
    "    local_fname = url.split('/')[-1]\n",
    "    if os.path.exists(local_fname):\n",
    "        return local_fname\n",
    "    else:\n",
    "        urlretrieve(url, local_fname)\n",
    "        return local_fname\n",
    "\n",
    "data_url = 'http://quantquote.com/files/quantquote_daily_sp500_83986.zip'\n",
    "metadata_url = 'https://quantquote.com/docs/QuantQuote_Minute.pdf'\n",
    "\n",
    "# Download data\n",
    "data_fname = download(data_url)\n",
    "# Extract the data\n",
    "with ZipFile(data_fname) as zf:\n",
    "    zf.extractall()\n",
    "\n",
    "# Download PDF with the metadata\n",
    "metadata_fname = download(metadata_url)"
   ]
  },
  {
   "cell_type": "markdown",
   "metadata": {},
   "source": [
    "For each one of the 500 stock symbols, we have a file. Here is a sample:"
   ]
  },
  {
   "cell_type": "code",
   "execution_count": null,
   "metadata": {
    "collapsed": false
   },
   "outputs": [],
   "source": [
    "from pprint import pprint\n",
    "\n",
    "data_dir = os.path.join('quantquote_daily_sp500_83986', 'daily')\n",
    "pprint(os.listdir(data_dir)[:10])"
   ]
  },
  {
   "cell_type": "markdown",
   "metadata": {},
   "source": [
    "From the downloaded PDF (see `metadata_fname`) we can obtain the field names (and their descriptions):"
   ]
  },
  {
   "cell_type": "code",
   "execution_count": null,
   "metadata": {
    "collapsed": true
   },
   "outputs": [],
   "source": [
    "fieldnames = [\n",
    "    'date',\n",
    "    'time',\n",
    "    'open',\n",
    "    'high',\n",
    "    'low',\n",
    "    'close',\n",
    "    'volume' \n",
    "]"
   ]
  },
  {
   "cell_type": "markdown",
   "metadata": {},
   "source": [
    "## Building the dataset for a single stock symbol"
   ]
  },
  {
   "cell_type": "markdown",
   "metadata": {},
   "source": [
    "We can now easily import the data of a single stock, for example, Apple (AAPL). We will drop the `time` field because it's useless.\n",
    "\n",
    "First, let's get set to work with dataframes and matplotlib visualizations."
   ]
  },
  {
   "cell_type": "code",
   "execution_count": null,
   "metadata": {
    "collapsed": true
   },
   "outputs": [],
   "source": [
    "import pandas as pd\n",
    "import matplotlib.pyplot as plt"
   ]
  },
  {
   "cell_type": "code",
   "execution_count": null,
   "metadata": {
    "collapsed": false
   },
   "outputs": [],
   "source": [
    "%matplotlib inline\n",
    "print(plt.style.available)"
   ]
  },
  {
   "cell_type": "code",
   "execution_count": null,
   "metadata": {
    "collapsed": true
   },
   "outputs": [],
   "source": [
    "plt.style.use('fivethirtyeight')"
   ]
  },
  {
   "cell_type": "code",
   "execution_count": null,
   "metadata": {
    "collapsed": false
   },
   "outputs": [],
   "source": [
    "def import_data(symbol, fieldnames=fieldnames, set_index=True, add_symbol=False):\n",
    "    data_path = os.path.join('quantquote_daily_sp500_83986',\n",
    "                             'daily',\n",
    "                             'table_' + symbol + '.csv')\n",
    "    data = pd.read_csv(data_path,\n",
    "                       names=fieldnames).drop('time', axis=1)\n",
    "    data['date'] = pd.to_datetime(data.date, format='%Y%m%d')\n",
    "    if set_index:\n",
    "        data.set_index('date', inplace=True)\n",
    "    if add_symbol:\n",
    "        data['symbol'] = symbol\n",
    "    return data\n",
    "\n",
    "aapl = import_data('aapl')"
   ]
  },
  {
   "cell_type": "code",
   "execution_count": null,
   "metadata": {
    "collapsed": false
   },
   "outputs": [],
   "source": [
    "print(aapl.info())\n",
    "print(aapl.describe())"
   ]
  },
  {
   "cell_type": "markdown",
   "metadata": {},
   "source": [
    "We can quickly look at things like the closing prices:"
   ]
  },
  {
   "cell_type": "code",
   "execution_count": null,
   "metadata": {
    "collapsed": false
   },
   "outputs": [],
   "source": [
    "aapl.close.plot(title='AAPL closing prices')"
   ]
  },
  {
   "cell_type": "markdown",
   "metadata": {},
   "source": [
    "This kind of plot where you have a lot of data points in the x-axis begs for interactivity: sometimes we want to inspect prices dates where something happened. Bokeh can help greatly here, allowing you to zoom in the dates you are interested in easily."
   ]
  },
  {
   "cell_type": "code",
   "execution_count": null,
   "metadata": {
    "collapsed": false
   },
   "outputs": [],
   "source": [
    "import bokeh.charts, bokeh.io\n",
    "bokeh.io.output_notebook()"
   ]
  },
  {
   "cell_type": "code",
   "execution_count": null,
   "metadata": {
    "collapsed": false
   },
   "outputs": [],
   "source": [
    "p = bokeh.charts.Line(aapl.close.reset_index(), x='date', y='close')\n",
    "p.notebook(True).show()"
   ]
  },
  {
   "cell_type": "markdown",
   "metadata": {},
   "source": [
    "We can also look at the relative difference between open and close prices:"
   ]
  },
  {
   "cell_type": "code",
   "execution_count": null,
   "metadata": {
    "collapsed": false
   },
   "outputs": [],
   "source": [
    "_df = (aapl.close - aapl.open) / aapl.open\n",
    "print(_df.describe())\n",
    "_df.plot(title='AAPL relative difference between close and open prices')"
   ]
  },
  {
   "cell_type": "code",
   "execution_count": null,
   "metadata": {
    "collapsed": false
   },
   "outputs": [],
   "source": [
    "_df.hist(bins=50)"
   ]
  },
  {
   "cell_type": "markdown",
   "metadata": {},
   "source": [
    "## Building a dataset for all stocks"
   ]
  },
  {
   "cell_type": "markdown",
   "metadata": {},
   "source": [
    "First, you should check if the data is \"too big\" just by looking at its size. It's 35M compressed, so we will be fine loading it all in memory."
   ]
  },
  {
   "cell_type": "code",
   "execution_count": null,
   "metadata": {
    "collapsed": false
   },
   "outputs": [],
   "source": [
    "_data_dir = os.path.join('quantquote_daily_sp500_83986', 'daily')\n",
    "\n",
    "def make_dataset(data_dir=_data_dir):      \n",
    "    data_files = [f for f in os.listdir(data_dir) if f.endswith('.csv')]\n",
    "    symbols = [os.path.splitext(f)[0].split('_')[1] for f in data_files]\n",
    "    df_by_symbol = (import_data(s, set_index=False, add_symbol=True)\n",
    "                    for s in symbols)\n",
    "    df = pd.concat(df_by_symbol)\n",
    "    \n",
    "    # Encode categorical variables efficiently\n",
    "    df['symbol'] = df.symbol.astype('category')\n",
    "    # Set an index and assert it is well behaved\n",
    "    df = df.set_index(['symbol', 'date']).sort_index()\n",
    "    assert df.index.is_unique and df.index.is_monotonic\n",
    "    return df"
   ]
  },
  {
   "cell_type": "code",
   "execution_count": null,
   "metadata": {
    "collapsed": false
   },
   "outputs": [],
   "source": [
    "%time df = make_dataset()"
   ]
  },
  {
   "cell_type": "markdown",
   "metadata": {},
   "source": [
    "We can now access the data in various ways:"
   ]
  },
  {
   "cell_type": "code",
   "execution_count": null,
   "metadata": {
    "collapsed": false
   },
   "outputs": [],
   "source": [
    "df.head()"
   ]
  },
  {
   "cell_type": "code",
   "execution_count": null,
   "metadata": {
    "collapsed": false
   },
   "outputs": [],
   "source": [
    "df.loc['aapl'].head()"
   ]
  },
  {
   "cell_type": "markdown",
   "metadata": {},
   "source": [
    "Let's say now we want to visualize the closing prices for Microsoft (MSFT) and Apple (AAPL) stock:"
   ]
  },
  {
   "cell_type": "code",
   "execution_count": null,
   "metadata": {
    "collapsed": false
   },
   "outputs": [],
   "source": [
    "_symbols = ['aapl', 'msft']\n",
    "_df = df.loc[_symbols].close.unstack('symbol')\n",
    "\n",
    "print(_df.head())\n",
    "_df.plot()"
   ]
  },
  {
   "cell_type": "markdown",
   "metadata": {},
   "source": [
    "The main thing to remember about plotting with pandas is __the x-axis corresponds to the index and each column corresponds to a different series__.\n",
    "\n",
    "Log-scale on the closing price might help clear things up here:"
   ]
  },
  {
   "cell_type": "code",
   "execution_count": null,
   "metadata": {
    "collapsed": false
   },
   "outputs": [],
   "source": [
    "import numpy as np\n",
    "\n",
    "# one way of using log scale in the y-axis\n",
    "np.log(_df).plot()"
   ]
  },
  {
   "cell_type": "markdown",
   "metadata": {},
   "source": [
    "The plots handle missing data gracefully too:"
   ]
  },
  {
   "cell_type": "code",
   "execution_count": null,
   "metadata": {
    "collapsed": false
   },
   "outputs": [],
   "source": [
    "_symbols = ['aapl', 'msft', 'goog', 'yhoo']\n",
    "_df = df.loc[_symbols].close.unstack('symbol')\n",
    "\n",
    "print(_df.head())\n",
    "_df.plot(logy=True) # another way of using log scale in the y-axis"
   ]
  },
  {
   "cell_type": "markdown",
   "metadata": {
    "collapsed": false
   },
   "source": [
    "Notice how the legend covers part of the plot. Pandas plots are just matplotlib plots and thus you can [modify their legend](http://matplotlib.org/users/legend_guide.html) the same way:"
   ]
  },
  {
   "cell_type": "code",
   "execution_count": null,
   "metadata": {
    "collapsed": false
   },
   "outputs": [],
   "source": [
    "# Sets the upper-left corner of the legend box at position bbox_to_anchor\n",
    "# bbox_to_anchor=(0.5,0.5) would be the center of the plot\n",
    "\n",
    "_df.plot(logy=True).legend(bbox_to_anchor=(1.1, 0.5), loc='upper left')\n",
    "\n",
    "# exercise: restrict the plot to the period after the first iPhone release (June 2007)"
   ]
  },
  {
   "cell_type": "markdown",
   "metadata": {},
   "source": [
    "We can also plot one stock against another:"
   ]
  },
  {
   "cell_type": "code",
   "execution_count": null,
   "metadata": {
    "collapsed": false
   },
   "outputs": [],
   "source": [
    "from pandas.tools.plotting import scatter_matrix\n",
    "\n",
    "scatter_matrix(_df, alpha=0.2, figsize=(9, 9), diagonal='kde')"
   ]
  },
  {
   "cell_type": "markdown",
   "metadata": {},
   "source": [
    "You may also want to know how much you would have made over time from 1 dollar invested on each stock on Jan 1st 2006:"
   ]
  },
  {
   "cell_type": "code",
   "execution_count": null,
   "metadata": {
    "collapsed": false
   },
   "outputs": [],
   "source": [
    "_symbols = ['aapl', 'msft', 'goog', 'yhoo']\n",
    "_df = df.loc[_symbols].close.unstack('symbol').loc['2006':]\n",
    "\n",
    "\n",
    "_df.div(_df.iloc[0]).plot(kind='area')"
   ]
  },
  {
   "cell_type": "code",
   "execution_count": null,
   "metadata": {
    "collapsed": false
   },
   "outputs": [],
   "source": [
    "# Only on pandas 0.17+\n",
    "\n",
    "_df.div(_df.iloc[0]).plot.area()"
   ]
  },
  {
   "cell_type": "markdown",
   "metadata": {},
   "source": [
    "## The most traded stocks"
   ]
  },
  {
   "cell_type": "markdown",
   "metadata": {},
   "source": [
    "We could want to restrict attention to the most traded stocks. To find 20 most traded stocks:"
   ]
  },
  {
   "cell_type": "code",
   "execution_count": null,
   "metadata": {
    "collapsed": false
   },
   "outputs": [],
   "source": [
    "most_traded_symb = (\n",
    "    df.groupby(level='symbol')\n",
    "      .sum()\n",
    "      .sort_values(by='volume', ascending=False)\n",
    "      .index\n",
    "      .tolist()\n",
    ")\n",
    "\n",
    "most_traded_symb[:20]"
   ]
  },
  {
   "cell_type": "markdown",
   "metadata": {},
   "source": [
    "Why isn't Google there? Let's see where Google is in the list:"
   ]
  },
  {
   "cell_type": "code",
   "execution_count": null,
   "metadata": {
    "collapsed": false
   },
   "outputs": [],
   "source": [
    "most_traded_symb.index('goog')"
   ]
  },
  {
   "cell_type": "markdown",
   "metadata": {},
   "source": [
    "Wow, not even close to top 20 most traded. I wonder why."
   ]
  },
  {
   "cell_type": "code",
   "execution_count": null,
   "metadata": {
    "collapsed": false
   },
   "outputs": [],
   "source": [
    "# exercise: select different combinations of stock symbols and dates\n",
    "# See http://pandas.pydata.org/pandas-docs/stable/advanced.html#using-slicers\n",
    "\n",
    "top20 = df.loc[(most_traded_symb[:20],slice(None)), ['open', 'close']]\n",
    "\n",
    "top20.head()"
   ]
  },
  {
   "cell_type": "code",
   "execution_count": null,
   "metadata": {
    "collapsed": false
   },
   "outputs": [],
   "source": [
    "top20.close.unstack('symbol').head()"
   ]
  },
  {
   "cell_type": "markdown",
   "metadata": {},
   "source": [
    "We may want to exclude AAPL from a visualizations of returns over time on a dollar invested:"
   ]
  },
  {
   "cell_type": "code",
   "execution_count": null,
   "metadata": {
    "collapsed": false
   },
   "outputs": [],
   "source": [
    "_df0 = top20.drop('aapl').unstack(level='symbol')\n",
    "_df0.div(_df0.iloc[0]).close.plot.area().legend(bbox_to_anchor=(1.1, 0.5), loc='upper left', ncol=3)"
   ]
  },
  {
   "cell_type": "code",
   "execution_count": null,
   "metadata": {
    "collapsed": true
   },
   "outputs": [],
   "source": [
    "# Exercise: which days of the week see the most trade? What about days of the month?"
   ]
  },
  {
   "cell_type": "markdown",
   "metadata": {},
   "source": [
    "## What the Olympics have to do with making bets\n",
    "\n",
    "We will now look into a visual way of choosing among multiple alternatives that give you a random return.\n",
    "\n",
    "Before that, a short detour into athletics: in the 2012 summer olympics, these were the number of gold, silver and bronze medals for the US, China, Russia and Great Britain, respectively:\n",
    "\n",
    "- US: 46,29,29\n",
    "- China: 38,27,22\n",
    "- Russia: 24,25,33\n",
    "- Great Britain: 29, 17,19\n",
    "\n",
    "How do these olympic teams compare? Who is better: Great Britain or Russia? Here is a visual answer:"
   ]
  },
  {
   "cell_type": "code",
   "execution_count": null,
   "metadata": {
    "collapsed": false
   },
   "outputs": [],
   "source": [
    "medals = {'US': [46,29,29],\n",
    "          'China': [38,27,22],\n",
    "          'Russia': [24,25,33],\n",
    "          'Great Britain': [29, 17,19],\n",
    "          'medals': ['gold', 'silver', 'bronze']}\n",
    "\n",
    "summer_olymp = pd.DataFrame(medals).set_index('medals')\n",
    "summer_olymp"
   ]
  },
  {
   "cell_type": "code",
   "execution_count": null,
   "metadata": {
    "collapsed": false
   },
   "outputs": [],
   "source": [
    "# Note that to interpret the index/x-axis, you need to know we are doing a cumulative sum\n",
    "# It's easy to do it this way, but it can confuse your audience. Be careful.\n",
    "\n",
    "summer_olymp.cumsum().plot.bar()"
   ]
  },
  {
   "cell_type": "markdown",
   "metadata": {},
   "source": [
    "It follows from above that, unanmbiguously, US > China > {Russia, Great Britan}. However, whether Russia beats Great Britain or vice-versa depends on the relative weights of each type of medal.\n",
    "\n",
    "Note that Great Britan has more gold medals than Russia, but Russia has more medals than Great Britan when we count gold and silver, or when we count all three types of medals.\n",
    "\n",
    "The following plot is another way of visualizing the same information."
   ]
  },
  {
   "cell_type": "code",
   "execution_count": null,
   "metadata": {
    "collapsed": false
   },
   "outputs": [],
   "source": [
    "summer_olymp.transpose().plot.bar(stacked=True).legend(bbox_to_anchor=(1.1, 0.5), loc='upper left', ncol=1)"
   ]
  },
  {
   "cell_type": "markdown",
   "metadata": {},
   "source": [
    "We can use similar ideas when making bets, choosing models, etc. as long as the returns from our choice can be quantified in a probability distribution.\n",
    "\n",
    "For simplicity, imagine stock returns are independent, and that you need to choose one stock to \"bet on\". Betting on a stock means that you will buy 1 dollar of it when the market opens, and sell what you could buy with that 1 dollar at the end of the day. Again, for simplicity, restrict attention to the stocks ['ge', 'nflx', 'yhoo'].\n",
    "\n",
    "One way to proceed could be as follows. We compare the empirical cumulative distribution function (ECDF) of each alternative: the alternative with the \"lowest\" ECDF (if there is one), is the best alternative. That is because that \"lowest\" ECDF unambiguously puts more mass on higher-value outcomes. In particular, if we ranked the alternatives by the mean, median, quartiles, etc., all these measures would agree that the alternative with the lowest ECDF would be the best. In that case, we say this lowest ECDF stochastically dominates all other distributions in a first-order sense.\n",
    "\n",
    "If there is no uniformly lowest ECDF, then we need to analyze the graph and see where various ECDFs cross each other to make a judgement call.\n",
    "\n",
    "You may want to look up the definition of [cumulative distribution function](https://en.wikipedia.org/wiki/Cumulative_distribution_function) and [first-order stochastic dominance](https://en.wikipedia.org/wiki/Stochastic_dominance#First-order_stochastic_dominance)."
   ]
  },
  {
   "cell_type": "code",
   "execution_count": null,
   "metadata": {
    "collapsed": false
   },
   "outputs": [],
   "source": [
    "spread = ((df.close - df.open) / df.open).loc[['ge', 'nflx', 'yhoo']]"
   ]
  },
  {
   "cell_type": "code",
   "execution_count": null,
   "metadata": {
    "collapsed": false
   },
   "outputs": [],
   "source": [
    "def plot_cdfs(spread):\n",
    "    binned = (np.round(spread * 100) /100).reset_index().groupby(['symbol', 0]).count()\n",
    "    binned.index.names = ['symbol', 'bin']\n",
    "    numerator = binned.unstack(level='symbol').cumsum()\n",
    "    denominator = binned.unstack(level='symbol').sum()\n",
    "    return numerator.div(denominator).plot()\n",
    "\n",
    "plot_cdfs(spread)"
   ]
  },
  {
   "cell_type": "markdown",
   "metadata": {},
   "source": [
    "As you can see, there is no clear winner: the options with good returns are also the options with high costs. But what if you could somehow guess if the stock will go up or down in that day. In that case:"
   ]
  },
  {
   "cell_type": "code",
   "execution_count": null,
   "metadata": {
    "collapsed": false
   },
   "outputs": [],
   "source": [
    "plot_cdfs(np.abs(spread))"
   ]
  },
  {
   "cell_type": "markdown",
   "metadata": {},
   "source": [
    "And in this case Netflix looks like the winner."
   ]
  },
  {
   "cell_type": "markdown",
   "metadata": {
    "collapsed": false
   },
   "source": [
    "## Panel data"
   ]
  },
  {
   "cell_type": "code",
   "execution_count": null,
   "metadata": {
    "collapsed": false
   },
   "outputs": [],
   "source": [
    "pan = df.to_panel()\n",
    "pan"
   ]
  },
  {
   "cell_type": "code",
   "execution_count": null,
   "metadata": {
    "collapsed": false
   },
   "outputs": [],
   "source": [
    "# Note that dates go in the columns, for some reason\n",
    "\n",
    "pan.loc['close'].head()"
   ]
  },
  {
   "cell_type": "code",
   "execution_count": null,
   "metadata": {
    "collapsed": false
   },
   "outputs": [],
   "source": [
    "# This fixes it\n",
    "\n",
    "pan.loc['close'].transpose().head()"
   ]
  },
  {
   "cell_type": "markdown",
   "metadata": {},
   "source": [
    "Another way to build a panel:"
   ]
  },
  {
   "cell_type": "code",
   "execution_count": null,
   "metadata": {
    "collapsed": false
   },
   "outputs": [],
   "source": [
    "dd = {sym: df.loc[sym] for sym in most_traded_symb[:20]}\n",
    "panel = pd.Panel(dd)"
   ]
  },
  {
   "cell_type": "code",
   "execution_count": null,
   "metadata": {
    "collapsed": false
   },
   "outputs": [],
   "source": [
    "panel.loc['yhoo'].head()\n",
    "\n",
    "# Note that this time the dates came correctly in the rows"
   ]
  },
  {
   "cell_type": "code",
   "execution_count": null,
   "metadata": {
    "collapsed": false
   },
   "outputs": [],
   "source": [
    "panel.apply(lambda x: x.mean(), axis='major_axis')"
   ]
  },
  {
   "cell_type": "code",
   "execution_count": null,
   "metadata": {
    "collapsed": false
   },
   "outputs": [],
   "source": [
    "df.loc['nflx'].head()"
   ]
  },
  {
   "cell_type": "code",
   "execution_count": null,
   "metadata": {
    "collapsed": true
   },
   "outputs": [],
   "source": []
  }
 ],
 "metadata": {
  "kernelspec": {
   "display_name": "Python 3",
   "language": "python",
   "name": "python3"
  },
  "language_info": {
   "codemirror_mode": {
    "name": "ipython",
    "version": 3
   },
   "file_extension": ".py",
   "mimetype": "text/x-python",
   "name": "python",
   "nbconvert_exporter": "python",
   "pygments_lexer": "ipython3",
   "version": "3.5.1"
  }
 },
 "nbformat": 4,
 "nbformat_minor": 0
}
